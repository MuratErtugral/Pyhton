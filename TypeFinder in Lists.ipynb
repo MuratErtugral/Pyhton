{
 "cells": [
  {
   "cell_type": "markdown",
   "metadata": {},
   "source": [
    "#### Write a code to find iterables in lists if they are float or integer.\n",
    "\n",
    "    [[3,4.0,2,8.4,6],[0,2,0.2,4,6],[9,3.5,0.32,5,4]]\n"
   ]
  },
  {
   "cell_type": "code",
   "execution_count": null,
   "metadata": {},
   "outputs": [],
   "source": []
  },
  {
   "cell_type": "code",
   "execution_count": 5,
   "metadata": {},
   "outputs": [],
   "source": [
    "def typefinder(liste):\n",
    "    float_list = []\n",
    "    integer_list = []\n",
    "    for i in liste:\n",
    "        for j in i:\n",
    "            if type(j) == float:\n",
    "                float_list.append(j)\n",
    "            elif type(j) == int:\n",
    "                integer_list.append(j)\n",
    "            else:\n",
    "                continue\n",
    "    \n",
    "    print(float_list)\n",
    "    print(integer_list)\n",
    "                "
   ]
  },
  {
   "cell_type": "code",
   "execution_count": 6,
   "metadata": {},
   "outputs": [
    {
     "name": "stdout",
     "output_type": "stream",
     "text": [
      "[4.0, 8.4, 0.2, 3.5, 0.32]\n",
      "[3, 2, 6, 0, 2, 4, 6, 9, 5, 4]\n"
     ]
    }
   ],
   "source": [
    "typefinder([[3,4.0,2,8.4,6],[0,2,0.2,4,6],[9,3.5,0.32,5,4]])"
   ]
  },
  {
   "cell_type": "code",
   "execution_count": null,
   "metadata": {},
   "outputs": [],
   "source": []
  }
 ],
 "metadata": {
  "kernelspec": {
   "display_name": "Python 3",
   "language": "python",
   "name": "python3"
  },
  "language_info": {
   "codemirror_mode": {
    "name": "ipython",
    "version": 3
   },
   "file_extension": ".py",
   "mimetype": "text/x-python",
   "name": "python",
   "nbconvert_exporter": "python",
   "pygments_lexer": "ipython3",
   "version": "3.8.5"
  }
 },
 "nbformat": 4,
 "nbformat_minor": 4
}
