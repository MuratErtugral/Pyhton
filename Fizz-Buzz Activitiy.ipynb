{
 "cells": [
  {
   "cell_type": "markdown",
   "metadata": {},
   "source": [
    "#### First Answer"
   ]
  },
  {
   "cell_type": "code",
   "execution_count": 5,
   "metadata": {},
   "outputs": [
    {
     "name": "stdout",
     "output_type": "stream",
     "text": [
      "Bir sayı giriniz: 50\n",
      "numbers which multiple of 3:[3, 6, 9, 12, 18, 21, 24, 27, 33, 36, 39, 42, 48] \n",
      "numbers which multiple of 5:[5, 10, 20, 25, 35, 40] \n",
      "numbers which multiple of both 3 and 5:[15, 30, 45] \n",
      "numbers which is not multiple neither 3 or 5[1, 2, 4, 7, 8, 11, 13, 14, 16, 17, 19, 22, 23, 26, 28, 29, 31, 32, 34, 37, 38, 41, 43, 44, 46, 47, 49] \n"
     ]
    }
   ],
   "source": [
    "number = int(input(\"Bir sayı giriniz: \"))\n",
    "\n",
    "def FizzBuzz(number):\n",
    "    fizz = []\n",
    "    buzz = []\n",
    "    fizzbuzz = []\n",
    "    unchanged = []\n",
    "    for i in range(1,number):\n",
    "        if i % 5 == 0 and i % 3 == 0:\n",
    "            fizzbuzz.append(i)\n",
    "        elif i % 5 == 0:\n",
    "            buzz.append(i)\n",
    "        elif i%3 == 0:\n",
    "            fizz.append(i)\n",
    "        else:\n",
    "            unchanged.append(i)\n",
    "    print(\"numbers which multiple of 3:{} \".format(fizz))\n",
    "    print(\"numbers which multiple of 5:{} \".format(buzz))\n",
    "    print(\"numbers which multiple of both 3 and 5:{} \".format(fizzbuzz))\n",
    "    print(\"numbers which is not multiple neither 3 or 5{} \".format(unchanged))\n",
    "        \n",
    "FizzBuzz(number)\n",
    "            "
   ]
  },
  {
   "cell_type": "markdown",
   "metadata": {},
   "source": [
    "#### Second Answer..."
   ]
  },
  {
   "cell_type": "code",
   "execution_count": 6,
   "metadata": {},
   "outputs": [
    {
     "name": "stdout",
     "output_type": "stream",
     "text": [
      "Bir sayı giriniz: 50\n",
      "[1, 2, 'Fizz', 4, 'Buzz', 'Fizz', 7, 8, 'Fizz', 'Buzz', 11, 'Fizz', 13, 14, 'FizzBuzz', 16, 17, 'Fizz', 19, 'Buzz', 'Fizz', 22, 23, 'Fizz', 'Buzz', 26, 'Fizz', 28, 29, 'FizzBuzz', 31, 32, 'Fizz', 34, 'Buzz', 'Fizz', 37, 38, 'Fizz', 'Buzz', 41, 'Fizz', 43, 44, 'FizzBuzz', 46, 47, 'Fizz', 49]\n"
     ]
    }
   ],
   "source": [
    "number = int(input(\"Bir sayı giriniz: \"))\n",
    "\n",
    "def FizzBuzz(number):\n",
    "    liste = []\n",
    "    for i in range(1,number):\n",
    "        if i%15 == 0:\n",
    "            liste.append(\"FizzBuzz\")\n",
    "        elif i%5 == 0:\n",
    "            liste.append(\"Buzz\")\n",
    "        elif i%3 == 0:\n",
    "            liste.append(\"Fizz\")\n",
    "        else:\n",
    "            liste.append(i)\n",
    "    print(liste)\n",
    "        \n",
    "liste = FizzBuzz(number)\n"
   ]
  },
  {
   "cell_type": "code",
   "execution_count": null,
   "metadata": {},
   "outputs": [],
   "source": []
  }
 ],
 "metadata": {
  "kernelspec": {
   "display_name": "Python 3",
   "language": "python",
   "name": "python3"
  },
  "language_info": {
   "codemirror_mode": {
    "name": "ipython",
    "version": 3
   },
   "file_extension": ".py",
   "mimetype": "text/x-python",
   "name": "python",
   "nbconvert_exporter": "python",
   "pygments_lexer": "ipython3",
   "version": "3.8.5"
  }
 },
 "nbformat": 4,
 "nbformat_minor": 4
}
