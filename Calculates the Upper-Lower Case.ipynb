{
 "cells": [
  {
   "cell_type": "markdown",
   "metadata": {},
   "source": [
    "#### Write a Python function that accepts a string and calculate the number of upper case letters and lower case letters.\n",
    "\n",
    "Sample String : 'The quick Brow Fox'\n",
    "Expected Output :\n",
    "No. of Upper case characters : 3\n",
    "No. of Lower case Characters : 12"
   ]
  },
  {
   "cell_type": "code",
   "execution_count": null,
   "metadata": {},
   "outputs": [],
   "source": []
  },
  {
   "cell_type": "code",
   "execution_count": 5,
   "metadata": {},
   "outputs": [
    {
     "name": "stdout",
     "output_type": "stream",
     "text": [
      "Write a sentence: Lütfullah ÇELENK Python'u seviyor.\n",
      "Number of Upper case characters :  8\n",
      "Number of Lower case characters :  21\n"
     ]
    }
   ],
   "source": [
    "sentence = input(\"Write a sentence: \")\n",
    "\n",
    "def calculater(sentence):\n",
    "    upper_list = []\n",
    "    lower_list = []\n",
    "    for i in sentence:\n",
    "        if i.isupper():\n",
    "            upper_list.append(i)\n",
    "        elif i.islower():\n",
    "            lower_list.append(i)\n",
    "        else:\n",
    "            continue\n",
    "            \n",
    "    print(\"Number of Upper case characters : \",len(upper_list))\n",
    "    print(\"Number of Lower case characters : \", len(lower_list))\n",
    "\n",
    "calculater(sentence)\n",
    "            \n",
    "    "
   ]
  },
  {
   "cell_type": "code",
   "execution_count": null,
   "metadata": {},
   "outputs": [],
   "source": []
  }
 ],
 "metadata": {
  "kernelspec": {
   "display_name": "Python 3",
   "language": "python",
   "name": "python3"
  },
  "language_info": {
   "codemirror_mode": {
    "name": "ipython",
    "version": 3
   },
   "file_extension": ".py",
   "mimetype": "text/x-python",
   "name": "python",
   "nbconvert_exporter": "python",
   "pygments_lexer": "ipython3",
   "version": "3.8.5"
  }
 },
 "nbformat": 4,
 "nbformat_minor": 4
}
