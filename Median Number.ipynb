{
 "cells": [
  {
   "cell_type": "markdown",
   "metadata": {},
   "source": [
    "####  Write a code that finds the median number...\n",
    "The median is the middle number in a sorted, ascending or descending, list of numbers and can be more descriptive of that data set than the average. ... If there is an odd amount of numbers, the median value is the number that is in the middle, with the same amount of numbers below and above."
   ]
  },
  {
   "cell_type": "markdown",
   "metadata": {},
   "source": [
    "######  First Answer..."
   ]
  },
  {
   "cell_type": "code",
   "execution_count": 31,
   "metadata": {},
   "outputs": [],
   "source": [
    "def mediannumber(*numbers):\n",
    "    liste = []\n",
    "    for i in numbers:\n",
    "        liste.append(i)\n",
    "        sıralı_liste = sorted(liste)\n",
    "        index = len(liste)//2\n",
    "        if len(sıralı_liste)%2 != 0:\n",
    "            mediannumber = sıralı_liste[index]\n",
    "        else:\n",
    "            mediannumber = sıralı_liste[index-1],sıralı_liste[index]\n",
    "    \n",
    "    print(mediannumber)\n",
    "            "
   ]
  },
  {
   "cell_type": "code",
   "execution_count": 32,
   "metadata": {
    "scrolled": true
   },
   "outputs": [
    {
     "name": "stdout",
     "output_type": "stream",
     "text": [
      "(5, 6)\n"
     ]
    }
   ],
   "source": [
    "mediannumber(2,3,4,5,6,7,8,9)"
   ]
  },
  {
   "cell_type": "markdown",
   "metadata": {},
   "source": [
    "######  Second Answer..."
   ]
  },
  {
   "cell_type": "code",
   "execution_count": 33,
   "metadata": {},
   "outputs": [
    {
     "name": "stdout",
     "output_type": "stream",
     "text": [
      "kaç defa girmek istersiniz?5\n",
      "sayıları girin1\n",
      "sayıları girin4\n",
      "sayıları girin7\n",
      "sayıları girin9\n",
      "sayıları girin5\n",
      "5\n"
     ]
    }
   ],
   "source": [
    "kac = int(input(\"kaç defa girmek istersiniz?\"))   \n",
    "listem = []\n",
    "for i in range(kac):\n",
    "  listem.append(int(input(\"sayıları girin\")))\n",
    "  listem.sort()\n",
    "if len(listem) % 2 == 0:\n",
    "  print(listem[kac//2],listem[(kac//2)-1])\n",
    "else:\n",
    "  print(listem[kac//2])"
   ]
  },
  {
   "cell_type": "code",
   "execution_count": null,
   "metadata": {},
   "outputs": [],
   "source": []
  }
 ],
 "metadata": {
  "kernelspec": {
   "display_name": "Python 3",
   "language": "python",
   "name": "python3"
  },
  "language_info": {
   "codemirror_mode": {
    "name": "ipython",
    "version": 3
   },
   "file_extension": ".py",
   "mimetype": "text/x-python",
   "name": "python",
   "nbconvert_exporter": "python",
   "pygments_lexer": "ipython3",
   "version": "3.8.5"
  }
 },
 "nbformat": 4,
 "nbformat_minor": 4
}
