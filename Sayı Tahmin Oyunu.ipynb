{
 "cells": [
  {
   "cell_type": "code",
   "execution_count": 5,
   "metadata": {},
   "outputs": [
    {
     "name": "stdout",
     "output_type": "stream",
     "text": [
      "\n",
      "***********************************\n",
      "Sayı Tahmin Oyunu\n",
      "**********************************\n",
      "\n",
      "Enter a number please: 2\n",
      "You said Low...\n",
      "Enter a number please: 4\n",
      "You said high...\n",
      "Enter a number please: 5\n",
      "No chance remained...\n"
     ]
    }
   ],
   "source": [
    "print(\"\"\"\n",
    "***********************************\n",
    "Sayı Tahmin Oyunu\n",
    "**********************************\n",
    "\"\"\")\n",
    "\n",
    "\n",
    "import random\n",
    "\n",
    "number = random.randint(0,5)\n",
    "\n",
    "counter = 3\n",
    "\n",
    "while counter > 0:\n",
    "    guess = int(input(\"Enter a number please: \"))\n",
    "    counter -= 1\n",
    "    if counter > 0:\n",
    "        if guess == number:\n",
    "            print(\"You win the game...\")\n",
    "            break\n",
    "        elif guess > number:\n",
    "            print(\"You said high....\")\n",
    "        else:\n",
    "            print(\"You said Low...\")\n",
    "       \n",
    "        \n",
    "    else:\n",
    "        print(\"No chance remained...\")"
   ]
  }
 ],
 "metadata": {
  "kernelspec": {
   "display_name": "Python 3",
   "language": "python",
   "name": "python3"
  },
  "language_info": {
   "codemirror_mode": {
    "name": "ipython",
    "version": 3
   },
   "file_extension": ".py",
   "mimetype": "text/x-python",
   "name": "python",
   "nbconvert_exporter": "python",
   "pygments_lexer": "ipython3",
   "version": "3.8.5"
  }
 },
 "nbformat": 4,
 "nbformat_minor": 4
}
