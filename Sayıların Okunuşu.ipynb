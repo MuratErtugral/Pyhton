{
 "cells": [
  {
   "cell_type": "markdown",
   "metadata": {},
   "source": [
    "#### Kullanıcıdan 3 basamaklı bir sayı alın ve bu sayının okunuşunu bulan bir fonksiyon yazın.\n",
    "\n",
    "125 --- yüz yirmi beş\n",
    "341 --- üçyüz kırk bir"
   ]
  },
  {
   "cell_type": "code",
   "execution_count": null,
   "metadata": {},
   "outputs": [],
   "source": []
  },
  {
   "cell_type": "code",
   "execution_count": 5,
   "metadata": {},
   "outputs": [
    {
     "name": "stdout",
     "output_type": "stream",
     "text": [
      "Enter a number: 561\n",
      "beşyüz altmış bir\n"
     ]
    }
   ],
   "source": [
    "birler_basamağı = [\"bir\",\"iki\",\"üç\",\"dört\",\"beş\",\"altı\",\"yedi\",\"sekiz\",\"dokuz\"]\n",
    "onlar_basamağı = [\"on\",\"yirmi\",\"otuz\",\"kırk\",\"elli\",\"altmış\",\"yetmiş\",\"seksen\",\"doksan\"]\n",
    "yüzler_basamağı = [\"yüz\",\"ikiyüz\",\"üçyüz\",\"dörtyüz\",\"beşyüz\",\"altıyüz\",\"yediyüz\",\"sekizyüz\",\"dokuzyüz\"]\n",
    "\n",
    "number = int(input(\"Enter a number: \"))\n",
    "\n",
    "def okunuş(number):\n",
    "    yüzler = number // 100\n",
    "    son_iki_basamak = number % 100\n",
    "    onlar = son_iki_basamak // 10\n",
    "    birler = son_iki_basamak % 10\n",
    "    print(yüzler_basamağı[yüzler-1],onlar_basamağı[onlar-1],birler_basamağı[birler-1])\n",
    "    \n",
    "okunuş(number)\n",
    "    "
   ]
  },
  {
   "cell_type": "code",
   "execution_count": null,
   "metadata": {},
   "outputs": [],
   "source": []
  }
 ],
 "metadata": {
  "kernelspec": {
   "display_name": "Python 3",
   "language": "python",
   "name": "python3"
  },
  "language_info": {
   "codemirror_mode": {
    "name": "ipython",
    "version": 3
   },
   "file_extension": ".py",
   "mimetype": "text/x-python",
   "name": "python",
   "nbconvert_exporter": "python",
   "pygments_lexer": "ipython3",
   "version": "3.8.5"
  }
 },
 "nbformat": 4,
 "nbformat_minor": 4
}
