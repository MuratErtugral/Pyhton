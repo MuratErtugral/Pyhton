{
 "cells": [
  {
   "cell_type": "code",
   "execution_count": null,
   "metadata": {},
   "outputs": [
    {
     "name": "stdout",
     "output_type": "stream",
     "text": [
      "Lütfen bir sayı giriniz: 4\n",
      "4 is not a prime number.\n",
      "Lütfen bir sayı giriniz: 17\n",
      "17 is a prime number.\n"
     ]
    }
   ],
   "source": [
    "while True:\n",
    "    n = int(input(\"Lütfen bir sayı giriniz: \"))\n",
    "    count = 0\n",
    "    \n",
    "    for i in range(1, n+1):  # n+1 yazılma nedeni, en sonunda, girilen sayıya da bölümüne de bakmamız gerekiyor.\n",
    "        if n % i == 0:\n",
    "            count += 1\n",
    "\n",
    "    if (n == 0) or (n ==1) or (count >= 3):\n",
    "        print(n, \"is not a prime number.\")\n",
    "    else:\n",
    "        print(n, \"is a prime number.\")\n",
    "        "
   ]
  },
  {
   "cell_type": "code",
   "execution_count": null,
   "metadata": {},
   "outputs": [],
   "source": []
  }
 ],
 "metadata": {
  "kernelspec": {
   "display_name": "Python 3",
   "language": "python",
   "name": "python3"
  }
 },
 "nbformat": 4,
 "nbformat_minor": 4
}
