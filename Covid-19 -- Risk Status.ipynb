{
 "cells": [
  {
   "cell_type": "markdown",
   "metadata": {},
   "source": [
    "######  COVİD-19 RISK STATUS\n",
    "\n",
    "Task : Estimating the risk of death from coronavirus. Write a program that;\n",
    "\n",
    "-Takes \"Yes\" or \"No\" from the user as an answer to the following questions :\n",
    "\n",
    " * Are you a cigarette addict older than 75 years old? Variable → age\n",
    "\n",
    " * Do you have a severe chronic disease? Variable → chronic\n",
    "\n",
    " * Is your immune system too weak? Variable → immune\n",
    "\n",
    "Set a logical algorithm using boolean logic operators (and/or) \n",
    "And use if-statements With the given variables İn order to Print out us a message :\n",
    "    \"You are in risky group\"(if True ) or \"You are not in risky group\" (if False).\n"
   ]
  },
  {
   "cell_type": "code",
   "execution_count": 11,
   "metadata": {},
   "outputs": [
    {
     "name": "stdout",
     "output_type": "stream",
     "text": [
      "Please enter 'Yes' or 'No' to following questions\n",
      "Are you a cigarette addict older than 75 years old?No\n",
      "Do you have a severe chronic disease?no\n",
      "Is your immune system too weak?no\n",
      "You are not in a risky group\n"
     ]
    }
   ],
   "source": [
    "print(\"Please enter 'Yes' or 'No' to following questions\")\n",
    "age = (input(\"Are you a cigarette addict older than 75 years old?\").title().strip())\n",
    "chronic = (input(\"Do you have a severe chronic disease?\").title().strip())\n",
    "immune = (input(\"Is your immune system too weak?\").title().strip())\n",
    "if age == \"Yes\":\n",
    "    age = True\n",
    "else:\n",
    "    age = False  \n",
    "if chronic == \"Yes\":\n",
    "    chronic = True\n",
    "else:\n",
    "    chronic = False  \n",
    "if immune == \"Yes\":\n",
    "    immune = True\n",
    "else:\n",
    "    immune = False   \n",
    "if (age == True or chronic == True) or immune==True:\n",
    "    print(\"You are in a risky group\") \n",
    "else:\n",
    "    print(\"You are not in a risky group\")\n",
    "    "
   ]
  },
  {
   "cell_type": "code",
   "execution_count": null,
   "metadata": {},
   "outputs": [],
   "source": []
  }
 ],
 "metadata": {
  "kernelspec": {
   "display_name": "Python 3",
   "language": "python",
   "name": "python3"
  },
  "language_info": {
   "codemirror_mode": {
    "name": "ipython",
    "version": 3
   },
   "file_extension": ".py",
   "mimetype": "text/x-python",
   "name": "python",
   "nbconvert_exporter": "python",
   "pygments_lexer": "ipython3",
   "version": "3.8.5"
  }
 },
 "nbformat": 4,
 "nbformat_minor": 4
}
