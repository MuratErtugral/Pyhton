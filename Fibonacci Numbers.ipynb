{
 "cells": [
  {
   "cell_type": "code",
   "execution_count": 34,
   "metadata": {
    "scrolled": true
   },
   "outputs": [
    {
     "name": "stdout",
     "output_type": "stream",
     "text": [
      "Başlangıç sayısı giriniz: 1\n",
      "Bitiş sayısı giriniz: 55\n",
      "[1, 1, 2, 3, 5, 8, 13, 21, 34, 55]\n"
     ]
    }
   ],
   "source": [
    "def fibs(startnum,endnum):\n",
    "    fibonucci_list = []\n",
    "    a = 0\n",
    "    b = 1\n",
    "    if endnum == 0 or endnum == 1:\n",
    "        print(endnum)\n",
    "    else:        \n",
    "        fibonucci_list.append(b)\n",
    "        while b < endnum:\n",
    "            temp = a + b\n",
    "            fibonucci_list.append(temp)\n",
    "            a,b = b,temp\n",
    "           \n",
    "    print(fibonucci_list)\n",
    "\n",
    "startnum = int(input(\"Başlangıç sayısı giriniz: \"))\n",
    "endnum = int(input(\"Bitiş sayısı  giriniz: \"))\n",
    "\n",
    "fibonucci_list = fibs(startnum,endnum)\n",
    "\n",
    "\n",
    "    \n",
    "   \n",
    "        \n",
    "        \n",
    "    \n",
    "   "
   ]
  },
  {
   "cell_type": "code",
   "execution_count": null,
   "metadata": {},
   "outputs": [],
   "source": []
  },
  {
   "cell_type": "code",
   "execution_count": null,
   "metadata": {},
   "outputs": [],
   "source": []
  }
 ],
 "metadata": {
  "kernelspec": {
   "display_name": "Python 3",
   "language": "python",
   "name": "python3"
  },
  "language_info": {
   "codemirror_mode": {
    "name": "ipython",
    "version": 3
   },
   "file_extension": ".py",
   "mimetype": "text/x-python",
   "name": "python",
   "nbconvert_exporter": "python",
   "pygments_lexer": "ipython3",
   "version": "3.8.5"
  }
 },
 "nbformat": 4,
 "nbformat_minor": 4
}
