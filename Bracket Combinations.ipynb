{
 "cells": [
  {
   "cell_type": "markdown",
   "metadata": {},
   "source": [
    "####  Write a function that given a string containing just the characters (, ), {, }, [ and ], determines if the input string is valid or not by using following rules.\n",
    "\n",
    "An input string is valid if:\n",
    "\n",
    "Open brackets must be closed by the same type of brackets.\n",
    "\n",
    "Open brackets must be closed in the correct order.\n",
    "\n",
    "Note that an empty string is also considered valid.\n",
    "\n",
    "Example for user inputs and respective outputs"
   ]
  },
  {
   "cell_type": "code",
   "execution_count": 2,
   "metadata": {},
   "outputs": [
    {
     "name": "stdout",
     "output_type": "stream",
     "text": [
      "write a string that consists only '(',')','{','}','[',']': ()[]\n",
      "True\n"
     ]
    }
   ],
   "source": [
    "def isvalid(s):\n",
    "    bracket_dict = {\"(\":\")\",\"[\":\"]\",\"{\":\"}\"}\n",
    "    open_bracket = [\"(\",\"[\",\"{\"]\n",
    "    depo = []\n",
    "    for i in s:\n",
    "        if i in open_bracket:\n",
    "            depo.append(i)\n",
    "        elif depo and i == bracket_dict[depo[-1]]:\n",
    "            depo.pop()\n",
    "        else:\n",
    "            return False\n",
    "    return depo == []\n",
    "\n",
    "combination = input(\"write a string that consists only '(',')','{','}','[',']': \")\n",
    "print(isvalid(combination))"
   ]
  },
  {
   "cell_type": "code",
   "execution_count": null,
   "metadata": {},
   "outputs": [],
   "source": []
  }
 ],
 "metadata": {
  "kernelspec": {
   "display_name": "Python 3",
   "language": "python",
   "name": "python3"
  },
  "language_info": {
   "codemirror_mode": {
    "name": "ipython",
    "version": 3
   },
   "file_extension": ".py",
   "mimetype": "text/x-python",
   "name": "python",
   "nbconvert_exporter": "python",
   "pygments_lexer": "ipython3",
   "version": "3.8.5"
  }
 },
 "nbformat": 4,
 "nbformat_minor": 4
}
