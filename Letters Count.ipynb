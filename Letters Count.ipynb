{
 "cells": [
  {
   "cell_type": "markdown",
   "metadata": {},
   "source": [
    "#### Count the number of each letter in a sentence.\n",
    "\n",
    "\n",
    "The department you work for undertook a project construction that makes word / text analysis. You are asked to calculate the number of letters or any chars in the sentences entered under this project.\n",
    "Write a Python program that;\n",
    "    - takes a sentence from the user,\n",
    "    - counts the number of each letter of the sentence,\n",
    "    - collects the letters/chars as a key and the counted numbers as a value in a dictionary."
   ]
  },
  {
   "cell_type": "code",
   "execution_count": null,
   "metadata": {},
   "outputs": [],
   "source": []
  },
  {
   "cell_type": "code",
   "execution_count": 7,
   "metadata": {},
   "outputs": [
    {
     "name": "stdout",
     "output_type": "stream",
     "text": [
      "Bir cümle giriniz: Lütfullah Python seviyor.\n"
     ]
    },
    {
     "data": {
      "text/plain": [
       "{'L': 1,\n",
       " 'ü': 1,\n",
       " 't': 2,\n",
       " 'f': 1,\n",
       " 'u': 1,\n",
       " 'l': 2,\n",
       " 'a': 1,\n",
       " 'h': 2,\n",
       " ' ': 2,\n",
       " 'P': 1,\n",
       " 'y': 2,\n",
       " 'o': 2,\n",
       " 'n': 1,\n",
       " 's': 1,\n",
       " 'e': 1,\n",
       " 'v': 1,\n",
       " 'i': 1,\n",
       " 'r': 1,\n",
       " '.': 1}"
      ]
     },
     "execution_count": 7,
     "metadata": {},
     "output_type": "execute_result"
    }
   ],
   "source": [
    "sentence = input(\"Bir cümle giriniz: \")\n",
    "sözlük = dict()\n",
    "\n",
    "def lettercounter(sentence):\n",
    "    for i in sentence:\n",
    "        if i not in sözlük.keys():\n",
    "            sözlük[i] = 1\n",
    "        else:\n",
    "            sözlük[i] += 1\n",
    "    return sözlük\n",
    "\n",
    "lettercounter(sentence)\n",
    "    \n",
    "    \n",
    "    "
   ]
  },
  {
   "cell_type": "code",
   "execution_count": null,
   "metadata": {},
   "outputs": [],
   "source": []
  }
 ],
 "metadata": {
  "kernelspec": {
   "display_name": "Python 3",
   "language": "python",
   "name": "python3"
  },
  "language_info": {
   "codemirror_mode": {
    "name": "ipython",
    "version": 3
   },
   "file_extension": ".py",
   "mimetype": "text/x-python",
   "name": "python",
   "nbconvert_exporter": "python",
   "pygments_lexer": "ipython3",
   "version": "3.8.5"
  }
 },
 "nbformat": 4,
 "nbformat_minor": 4
}
