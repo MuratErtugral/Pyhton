{
 "cells": [
  {
   "cell_type": "markdown",
   "metadata": {},
   "source": [
    "####  Cümlenin içindeki sesli harfleri kaldıran ve sessiz harfleri kaldıran içeren bir fonksiyon yazalım."
   ]
  },
  {
   "cell_type": "code",
   "execution_count": null,
   "metadata": {},
   "outputs": [],
   "source": []
  },
  {
   "cell_type": "code",
   "execution_count": 12,
   "metadata": {},
   "outputs": [],
   "source": [
    "def harfsilme():\n",
    "    vowels = \"a,e,ı,i,o,ö,u,ü\"\n",
    "    sesli_harfsiz = \"\"\n",
    "    sessiz_harfsiz = \"\"\n",
    "    sentence = input(\"Enter a sentence: \")\n",
    "    for i in sentence:\n",
    "        if i in vowels:\n",
    "            sessiz_harfsiz += i\n",
    "        else:\n",
    "            sesli_harfsiz += i\n",
    "    print(sesli_harfsiz)\n",
    "    print(sessiz_harfsiz)\n",
    "        "
   ]
  },
  {
   "cell_type": "code",
   "execution_count": 13,
   "metadata": {},
   "outputs": [
    {
     "name": "stdout",
     "output_type": "stream",
     "text": [
      "Enter a sentence: benim adım lütfü\n",
      "bnm dm ltf\n",
      "eiaıüü\n"
     ]
    }
   ],
   "source": [
    "harfsilme()"
   ]
  },
  {
   "cell_type": "code",
   "execution_count": null,
   "metadata": {},
   "outputs": [],
   "source": []
  }
 ],
 "metadata": {
  "kernelspec": {
   "display_name": "Python 3",
   "language": "python",
   "name": "python3"
  },
  "language_info": {
   "codemirror_mode": {
    "name": "ipython",
    "version": 3
   },
   "file_extension": ".py",
   "mimetype": "text/x-python",
   "name": "python",
   "nbconvert_exporter": "python",
   "pygments_lexer": "ipython3",
   "version": "3.8.5"
  }
 },
 "nbformat": 4,
 "nbformat_minor": 4
}
