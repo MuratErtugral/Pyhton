{
 "cells": [
  {
   "cell_type": "markdown",
   "metadata": {},
   "source": [
    "####  Given a non-empty string and an int n, return a new string where the character at index n has been removed. The value of n will be a valid index of a character in the original string (i.e. n will be in the range 0....len(str)-1 inclusive).\n",
    "\n",
    "For example:\n",
    "\n",
    "Test\t                                   Result\n",
    "\n",
    "print(missing_char('kitchen', 1))          ktchen\n",
    "print(missing_char('kitchen', 0))          itchen\n",
    "print(missing_char('kitchen', 4))          kitcen\n",
    "\n"
   ]
  },
  {
   "cell_type": "code",
   "execution_count": 47,
   "metadata": {},
   "outputs": [],
   "source": [
    "def missing_char(word,n):\n",
    "    for i in [word]:\n",
    "        if i != n:\n",
    "            x = word.replace(word[n],\"\")\n",
    "            return x\n",
    "        else:\n",
    "            return i\n",
    "        "
   ]
  },
  {
   "cell_type": "code",
   "execution_count": 49,
   "metadata": {},
   "outputs": [
    {
     "name": "stdout",
     "output_type": "stream",
     "text": [
      "ktchen\n"
     ]
    }
   ],
   "source": [
    "print(missing_char('kitchen', 1))"
   ]
  },
  {
   "cell_type": "code",
   "execution_count": 50,
   "metadata": {},
   "outputs": [
    {
     "name": "stdout",
     "output_type": "stream",
     "text": [
      "itchen\n"
     ]
    }
   ],
   "source": [
    "print(missing_char('kitchen', 0))"
   ]
  },
  {
   "cell_type": "code",
   "execution_count": 51,
   "metadata": {},
   "outputs": [
    {
     "name": "stdout",
     "output_type": "stream",
     "text": [
      "kitcen\n"
     ]
    }
   ],
   "source": [
    "print(missing_char('kitchen', 4))"
   ]
  },
  {
   "cell_type": "code",
   "execution_count": null,
   "metadata": {},
   "outputs": [],
   "source": []
  }
 ],
 "metadata": {
  "kernelspec": {
   "display_name": "Python 3",
   "language": "python",
   "name": "python3"
  },
  "language_info": {
   "codemirror_mode": {
    "name": "ipython",
    "version": 3
   },
   "file_extension": ".py",
   "mimetype": "text/x-python",
   "name": "python",
   "nbconvert_exporter": "python",
   "pygments_lexer": "ipython3",
   "version": "3.8.5"
  }
 },
 "nbformat": 4,
 "nbformat_minor": 4
}
