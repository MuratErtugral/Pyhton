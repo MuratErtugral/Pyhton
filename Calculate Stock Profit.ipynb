{
 "cells": [
  {
   "cell_type": "markdown",
   "metadata": {},
   "source": [
    "#### Problem Statement\n",
    "Given an array of numbers representing the stock prices of a company in chronological order, write a function that calculates the maximum profit you could have made from buying and selling that stock once. Note that you must buy before you can sell it.\n",
    "For example, given [9, 11, 8, 5, 7, 10], you should return 5, since you could buy the stock at 5 dollars and sell it at 10 dollars.\n",
    "Example of different list of stock prices and respective outputs.\n",
    "List = [75,73,60,100,120,130]\n",
    "Output = 70\n",
    "List = [10,20,23,22,17,30]\n",
    "Output = 20\n",
    "List = [1,6,19,59,30,60]\n",
    "Output = 59\n",
    "\n"
   ]
  },
  {
   "cell_type": "markdown",
   "metadata": {},
   "source": [
    "####  First Answer"
   ]
  },
  {
   "cell_type": "code",
   "execution_count": 3,
   "metadata": {
    "scrolled": true
   },
   "outputs": [
    {
     "name": "stdout",
     "output_type": "stream",
     "text": [
      "58\n",
      "70\n"
     ]
    }
   ],
   "source": [
    "def buy_sell(liste):\n",
    "    max_profit = 0\n",
    "    for i in range(len(liste)):\n",
    "        for j in range(i,len(liste)):\n",
    "            buy_price, sell_price = liste[i],liste[j]\n",
    "            max_profit = max(max_profit, sell_price-buy_price)\n",
    "    return max_profit\n",
    "\n",
    "\n",
    "print(buy_sell([60,1,6,19,59,30]))\n",
    "\n",
    "print(buy_sell([75,73,60,100,120,130]))\n",
    "                \n",
    "        \n",
    "    "
   ]
  },
  {
   "cell_type": "markdown",
   "metadata": {},
   "source": [
    "#### Second Answer"
   ]
  },
  {
   "cell_type": "code",
   "execution_count": 4,
   "metadata": {},
   "outputs": [
    {
     "name": "stdout",
     "output_type": "stream",
     "text": [
      "58\n",
      "70\n"
     ]
    }
   ],
   "source": [
    "def buysell(*n):\n",
    "    profit = []\n",
    "    for i in n:\n",
    "        for j in n:\n",
    "            if n.index(i) > n.index(j):\n",
    "                profit.append(i - j)\n",
    "    return max(profit)\n",
    "\n",
    "print(buy_sell([60,1,6,19,59,30]))\n",
    "\n",
    "print(buy_sell([75,73,60,100,120,130]))\n",
    "                "
   ]
  },
  {
   "cell_type": "code",
   "execution_count": null,
   "metadata": {},
   "outputs": [],
   "source": []
  }
 ],
 "metadata": {
  "kernelspec": {
   "display_name": "Python 3",
   "language": "python",
   "name": "python3"
  },
  "language_info": {
   "codemirror_mode": {
    "name": "ipython",
    "version": 3
   },
   "file_extension": ".py",
   "mimetype": "text/x-python",
   "name": "python",
   "nbconvert_exporter": "python",
   "pygments_lexer": "ipython3",
   "version": "3.8.5"
  }
 },
 "nbformat": 4,
 "nbformat_minor": 4
}
