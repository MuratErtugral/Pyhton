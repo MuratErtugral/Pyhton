{
 "cells": [
  {
   "cell_type": "markdown",
   "metadata": {},
   "source": [
    "##### Let d(n) be defined as the sum of proper divisors of n (numbers less than n which divide evenly into n).\n",
    "If d(a) = b and d(b) = a, where a ≠ b, then a and b are an amicable pair and each of a and b are called amicable numbers.\n",
    "For example, the proper divisors of 220 are 1, 2, 4, 5, 10, 11, 20, 22, 44, 55 and 110; therefore d(220) = 284. The proper divisors of 284 are 1, 2, 4, 71 and 142; so d(284) = 220.\n"
   ]
  },
  {
   "cell_type": "code",
   "execution_count": 12,
   "metadata": {},
   "outputs": [
    {
     "name": "stdout",
     "output_type": "stream",
     "text": [
      "Bir sayı giriniz: 220\n",
      "Your number is amicable\n"
     ]
    }
   ],
   "source": [
    "number = int(input(\"Bir sayı giriniz: \"))\n",
    "bölenler1 = []\n",
    "bölenler2 = []\n",
    "\n",
    "for i in range(1,number):\n",
    "    if number%i == 0:\n",
    "        bölenler1.append(i)\n",
    "\n",
    "toplam_bölenler1 = sum(bölenler1)\n",
    "\n",
    "for k in range(1,toplam_bölenler1):\n",
    "    if toplam_bölenler1%k == 0:\n",
    "        bölenler2.append(k)\n",
    "        \n",
    "toplam_bölenler2 = sum(bölenler2)\n",
    "\n",
    "if number == toplam_bölenler2:\n",
    "    print(\"Your number is amicable\")\n",
    "else:\n",
    "    print(\"Your number is not amicable.\")"
   ]
  },
  {
   "cell_type": "code",
   "execution_count": null,
   "metadata": {},
   "outputs": [],
   "source": []
  }
 ],
 "metadata": {
  "kernelspec": {
   "display_name": "Python 3",
   "language": "python",
   "name": "python3"
  },
  "language_info": {
   "codemirror_mode": {
    "name": "ipython",
    "version": 3
   },
   "file_extension": ".py",
   "mimetype": "text/x-python",
   "name": "python",
   "nbconvert_exporter": "python",
   "pygments_lexer": "ipython3",
   "version": "3.8.5"
  }
 },
 "nbformat": 4,
 "nbformat_minor": 4
}
