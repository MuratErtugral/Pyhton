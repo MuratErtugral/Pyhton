{
 "cells": [
  {
   "cell_type": "code",
   "execution_count": 2,
   "metadata": {},
   "outputs": [
    {
     "name": "stdout",
     "output_type": "stream",
     "text": [
      "please enter a positive number:  407\n",
      "your number is armstrong number\n"
     ]
    }
   ],
   "source": [
    "number = input(\"please enter a  positive number:  \")\n",
    "sum = 0\n",
    "if int(number) > 0:\n",
    "  for i in number:\n",
    "   sum = sum + int(i)**len(number)\n",
    "  if sum == int(number):\n",
    "    print(\"your number is armstrong number\")    \n",
    "  else:\n",
    "    print(\"your number is not armstrong\")\n",
    "else:\n",
    "  print(\"invalid number\")"
   ]
  },
  {
   "cell_type": "code",
   "execution_count": null,
   "metadata": {},
   "outputs": [],
   "source": []
  }
 ],
 "metadata": {
  "kernelspec": {
   "display_name": "Python 3",
   "language": "python",
   "name": "python3"
  },
  "language_info": {
   "codemirror_mode": {
    "name": "ipython",
    "version": 3
   },
   "file_extension": ".py",
   "mimetype": "text/x-python",
   "name": "python",
   "nbconvert_exporter": "python",
   "pygments_lexer": "ipython3",
   "version": "3.8.5"
  }
 },
 "nbformat": 4,
 "nbformat_minor": 4
}
